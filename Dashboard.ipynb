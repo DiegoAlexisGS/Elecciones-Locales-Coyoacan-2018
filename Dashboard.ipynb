{
 "cells": [
  {
   "cell_type": "code",
   "execution_count": 1,
   "metadata": {},
   "outputs": [],
   "source": [
    "import dash\n",
    "import dash_core_components as dcc\n",
    "import dash_html_components as html\n",
    "import pandas as pd\n",
    "import numpy as np"
   ]
  },
  {
   "cell_type": "code",
   "execution_count": 2,
   "metadata": {},
   "outputs": [],
   "source": [
    "df=pd.read_csv(\"/home/diego/Escritorio/Thesis/clean_data/data/elecciones_09_12_15_18/co_2009.csv\")\n",
    "df2=pd.read_csv(\"/home/diego/Escritorio/Thesis/clean_data/data/elecciones_09_12_15_18/co_2012.csv\")\n",
    "df3=pd.read_csv(\"/home/diego/Escritorio/Thesis/clean_data/data/elecciones_09_12_15_18/co_2015.csv\")\n",
    "df4=pd.read_csv(\"/home/diego/Escritorio/Thesis/clean_data/data/elecciones_09_12_15_18/co_2018.csv\")"
   ]
  },
  {
   "cell_type": "code",
   "execution_count": 3,
   "metadata": {},
   "outputs": [
    {
     "data": {
      "text/plain": [
       "Index(['Sección', 'id distrito', 'total boletas sobrantes',\n",
       "       'total personas votaron', 'total votos sacados', 'PAN', 'PRI', 'PRD',\n",
       "       'PVEM', 'PT', 'MC', 'NA', 'MORENA', 'PES', 'PH',\n",
       "       'C.Común (PT-MORENA-PES)', 'C.Común (PT-MORENA)', 'C.Común (PT-PES)',\n",
       "       'C.Común (MORENA-PES)', 'Coalición (PAN-PRD-MC)', 'Coalición (PAN-PRD)',\n",
       "       'Coalición (PAN-MC)', 'Coalición (PRD-MC)', 'TOTAL PAN-PRD-MC',\n",
       "       'TOTAL MORENA-PT-PES', 'Nulos', 'No registrados',\n",
       "       'total votos asentados', 'total votos calculados', 'PADRON_TOTAL',\n",
       "       'LISTANOMINAL_TOTAL', '%PAN', '%PRI', '%PRD', '%PVEM', '%PT', '%MC',\n",
       "       '%NA', '%MORENA', '%PES', '%PH', '%C.Común (PT-MORENA-PES)',\n",
       "       '%C.Común (PT-MORENA)', '%C.Común (PT-PES)', '%C.Común (MORENA-PES)',\n",
       "       '%Coalición (PAN-PRD-MC)', '%Coalición (PAN-PRD)',\n",
       "       '%Coalición (PAN-MC)', '%Coalición (PRD-MC)', '%Nulos',\n",
       "       '%No registrados', '%TOTAL_MORENA-PES-PT', '%TOTAL_PAN-PRD-MC', 'IRAE'],\n",
       "      dtype='object')"
      ]
     },
     "execution_count": 3,
     "metadata": {},
     "output_type": "execute_result"
    }
   ],
   "source": [
    "df4.columns"
   ]
  },
  {
   "cell_type": "code",
   "execution_count": 4,
   "metadata": {},
   "outputs": [],
   "source": [
    "#2009,2012,2015,2018\n",
    "x=[\"PAN\",\"PRI\",\"PRD\",\"PT\",\"PVEM\",\"Convergencia\",\"Nueva Alianza\",\"PSD\",\"Candidatura Común PRD_PT_Convergencia\",\"Candidato Común\",\"Votos Nulos\"]\n",
    "x2=['PAN','PRI', 'PRD', 'PT', 'PVEM', 'MC', 'NA', 'PRI-PVEM CC1', 'PRD-PT-MC CC2','VOTOS\\nNULOS', 'TOTAL PRI-PVEM', 'TOTAL PRD-PT-MC']\n",
    "x3=['PAN', 'PRI', 'PRD', 'PVEM', 'PT','MC', 'NA', 'MORENA', 'PH', 'ES', 'PRI_PVEM', 'PRD_PT', 'CNR','TOTAL PRI-PVEM', 'TOTAL PRD-PT', 'VN']\n",
    "x4=['PAN', 'PRI', 'PRD','PVEM', 'PT', 'MC', 'NA', 'MORENA', 'PES', 'PH','C.Común (PT-MORENA-PES)', 'C.Común (PT-MORENA)', 'C.Común (PT-PES)','C.Común (MORENA-PES)', 'Coalición (PAN-PRD-MC)', 'Coalición (PAN-PRD)','Coalición (PAN-MC)', 'Coalición (PRD-MC)', 'TOTAL PAN-PRD-MC','TOTAL MORENA-PT-PES', 'Nulos']\n",
    "y=[]\n",
    "y2=[]\n",
    "y3=[]\n",
    "y4=[]\n",
    "for i in x:\n",
    "    y.append(sum(df[i]))\n",
    "    \n",
    "for i in x2:\n",
    "    y2.append(sum(df2[i]))\n",
    "    \n",
    "for i in x3:\n",
    "    y3.append(sum(df3[i]))\n",
    "    \n",
    "for i in x4:\n",
    "    y4.append(sum(df4[i]))\n",
    "    "
   ]
  },
  {
   "cell_type": "code",
   "execution_count": 5,
   "metadata": {},
   "outputs": [],
   "source": [
    "app = dash.Dash()\n",
    "colors = {\n",
    "    'background': '#FFFFFF',\n",
    "    'text': '#000000'\n",
    "}\n",
    "app.layout = html.Div(style={'backgroundColor': colors['background']}, children=[\n",
    "    html.H1(\n",
    "        children='Datos electorales. Elecciones 2009-2018 ',\n",
    "        style={\n",
    "            'textAlign': 'center',\n",
    "            'color': colors['text']\n",
    "        }\n",
    "    ),\n",
    "\n",
    "    html.Div(children='Resumen de los resultados electorales', style={\n",
    "        'textAlign': 'center',\n",
    "        'color': colors['text']\n",
    "    }),\n",
    "    \n",
    "    dcc.Graph(\n",
    "        id='Graph1',\n",
    "\n",
    "         figure={\n",
    "            'data': [\n",
    "                {'x':x , 'y': y, 'type': 'bar', 'name': 'Partidos 2009'},\n",
    "            \n",
    "            ],\n",
    "            'layout': {\n",
    "                'plot_bgcolor': colors['background'],\n",
    "                'paper_bgcolor': colors['background'],\n",
    "                'font': {\n",
    "                    'color': colors['text']\n",
    "                }\n",
    "            }\n",
    "        }\n",
    "    )\n",
    "    \n",
    "    \n",
    "    \n",
    "    \n",
    "    \n",
    "    \n",
    "])\n",
    "\n"
   ]
  },
  {
   "cell_type": "code",
   "execution_count": null,
   "metadata": {
    "scrolled": true
   },
   "outputs": [
    {
     "name": "stderr",
     "output_type": "stream",
     "text": [
      " * Running on http://127.0.0.1:8050/ (Press CTRL+C to quit)\n",
      "127.0.0.1 - - [09/Feb/2019 12:36:25] \"\u001b[37mGET / HTTP/1.1\u001b[0m\" 200 -\n",
      "127.0.0.1 - - [09/Feb/2019 12:36:25] \"\u001b[37mGET /_dash-layout HTTP/1.1\u001b[0m\" 200 -\n",
      "127.0.0.1 - - [09/Feb/2019 12:36:25] \"\u001b[37mGET /_dash-dependencies HTTP/1.1\u001b[0m\" 200 -\n",
      "127.0.0.1 - - [09/Feb/2019 12:36:26] \"\u001b[37mPOST /_dash-update-component HTTP/1.1\u001b[0m\" 200 -\n",
      "127.0.0.1 - - [09/Feb/2019 12:36:28] \"\u001b[37mPOST /_dash-update-component HTTP/1.1\u001b[0m\" 200 -\n",
      "127.0.0.1 - - [09/Feb/2019 12:36:30] \"\u001b[37mPOST /_dash-update-component HTTP/1.1\u001b[0m\" 200 -\n",
      "127.0.0.1 - - [09/Feb/2019 12:36:31] \"\u001b[37mPOST /_dash-update-component HTTP/1.1\u001b[0m\" 200 -\n",
      "127.0.0.1 - - [09/Feb/2019 12:36:32] \"\u001b[37mPOST /_dash-update-component HTTP/1.1\u001b[0m\" 200 -\n",
      "127.0.0.1 - - [09/Feb/2019 12:36:34] \"\u001b[37mPOST /_dash-update-component HTTP/1.1\u001b[0m\" 200 -\n"
     ]
    }
   ],
   "source": [
    "if __name__ == '__main__':\n",
    "    app.run_server(debug=False,port=8050)"
   ]
  },
  {
   "cell_type": "code",
   "execution_count": null,
   "metadata": {},
   "outputs": [],
   "source": []
  },
  {
   "cell_type": "code",
   "execution_count": null,
   "metadata": {},
   "outputs": [],
   "source": []
  },
  {
   "cell_type": "code",
   "execution_count": null,
   "metadata": {},
   "outputs": [],
   "source": [
    "def create_time_series(dff, axis_type, title):\n",
    "    return {\n",
    "        'data': [go.Scatter(\n",
    "            x=dff['Year'],\n",
    "            y=dff['Value'],\n",
    "            mode='lines+markers'\n",
    "        )],\n",
    "        'layout': {\n",
    "            'height': 225,\n",
    "            'margin': {'l': 20, 'b': 30, 'r': 10, 't': 10},\n",
    "            'annotations': [{\n",
    "                'x': 0, 'y': 0.85, 'xanchor': 'left', 'yanchor': 'bottom',\n",
    "                'xref': 'paper', 'yref': 'paper', 'showarrow': False,\n",
    "                'align': 'left', 'bgcolor': 'rgba(255, 255, 255, 0.5)',\n",
    "                'text': title\n",
    "            }],\n",
    "            'yaxis': {'type': 'linear' if axis_type == 'Linear' else 'log'},\n",
    "            'xaxis': {'showgrid': False}\n",
    "        }\n",
    "    }"
   ]
  },
  {
   "cell_type": "code",
   "execution_count": null,
   "metadata": {},
   "outputs": [],
   "source": []
  }
 ],
 "metadata": {
  "kernelspec": {
   "display_name": "Python 3",
   "language": "python",
   "name": "python3"
  },
  "language_info": {
   "codemirror_mode": {
    "name": "ipython",
    "version": 3
   },
   "file_extension": ".py",
   "mimetype": "text/x-python",
   "name": "python",
   "nbconvert_exporter": "python",
   "pygments_lexer": "ipython3",
   "version": "3.7.2"
  }
 },
 "nbformat": 4,
 "nbformat_minor": 2
}
