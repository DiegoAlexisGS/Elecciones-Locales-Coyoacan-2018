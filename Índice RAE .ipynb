{
 "cells": [
  {
   "cell_type": "markdown",
   "metadata": {},
   "source": [
    "# Índice de Rae "
   ]
  },
  {
   "cell_type": "markdown",
   "metadata": {},
   "source": [
    "Para medir la competitividad en las elecciones del 2018 en Coyoacán utilizamos el índice de Rae. El índice de Rae es una variante del índice de IHH. <br>\n",
    "La fórmula del índice de RAE está data por \n",
    "$$ IRAE=1-IHH$$\n",
    "Donde el IHH está dado por\n",
    "$$IHH=\\sum_{i=0}^{n-1}(s_{i})^2 $$\n",
    "Donde $s_i=\\frac{x_i}{\\sum_{j=0}^{n-1}x_j}$ y $n$ es el número de partidos participantes.\n",
    "<br>\n",
    "Para nuestros fines utilizaremos la siguiente fórmula \n",
    "$$\n",
    "IRAE_{i}=1-\\sum_{j=0}^{n-1}(s_{ij})^2\n",
    "$$\n",
    "Que es el índice de Rae para el $i-ésima$ sección electoral. Así podemos cuantificar la competitividad en todos las secciones electorales."
   ]
  },
  {
   "cell_type": "code",
   "execution_count": 126,
   "metadata": {},
   "outputs": [],
   "source": [
    "import pandas as pd\n",
    "import numpy as np\n",
    "import matplotlib.pyplot as plt\n",
    "%matplotlib inline"
   ]
  },
  {
   "cell_type": "code",
   "execution_count": 127,
   "metadata": {},
   "outputs": [],
   "source": [
    "df=pd.read_csv(\"/home/diego/Escritorio/Thesis/clean_data/data/elecciones_09_12_15_18/co_2018.csv\")"
   ]
  },
  {
   "cell_type": "code",
   "execution_count": 128,
   "metadata": {},
   "outputs": [
    {
     "data": {
      "text/html": [
       "<div>\n",
       "<style>\n",
       "    .dataframe thead tr:only-child th {\n",
       "        text-align: right;\n",
       "    }\n",
       "\n",
       "    .dataframe thead th {\n",
       "        text-align: left;\n",
       "    }\n",
       "\n",
       "    .dataframe tbody tr th {\n",
       "        vertical-align: top;\n",
       "    }\n",
       "</style>\n",
       "<table border=\"1\" class=\"dataframe\">\n",
       "  <thead>\n",
       "    <tr style=\"text-align: right;\">\n",
       "      <th></th>\n",
       "      <th>Sección</th>\n",
       "      <th>id distrito</th>\n",
       "      <th>Distrito</th>\n",
       "      <th>total boletas sobrantes</th>\n",
       "      <th>total personas votaron</th>\n",
       "      <th>total votos sacados</th>\n",
       "      <th>PAN</th>\n",
       "      <th>PRI</th>\n",
       "      <th>PRD</th>\n",
       "      <th>PVEM</th>\n",
       "      <th>...</th>\n",
       "      <th>%C.Común (PT-PES)</th>\n",
       "      <th>%C.Común (MORENA-PES)</th>\n",
       "      <th>%Coalición (PAN-PRD-MC)</th>\n",
       "      <th>%Coalición (PAN-PRD)</th>\n",
       "      <th>%Coalición (PAN-MC)</th>\n",
       "      <th>%Coalición (PRD-MC)</th>\n",
       "      <th>%Nulos</th>\n",
       "      <th>%No registrados</th>\n",
       "      <th>%TOTAL_MORENA-PES-PT</th>\n",
       "      <th>%TOTAL_PAN-PRD-MC</th>\n",
       "    </tr>\n",
       "  </thead>\n",
       "  <tbody>\n",
       "    <tr>\n",
       "      <th>0</th>\n",
       "      <td>345</td>\n",
       "      <td>78</td>\n",
       "      <td>78</td>\n",
       "      <td>443</td>\n",
       "      <td>1185</td>\n",
       "      <td>1179</td>\n",
       "      <td>254</td>\n",
       "      <td>115</td>\n",
       "      <td>262</td>\n",
       "      <td>35</td>\n",
       "      <td>...</td>\n",
       "      <td>0.0000</td>\n",
       "      <td>0.168776</td>\n",
       "      <td>1.265823</td>\n",
       "      <td>0.337553</td>\n",
       "      <td>0.000000</td>\n",
       "      <td>0.084388</td>\n",
       "      <td>1.772152</td>\n",
       "      <td>0.337553</td>\n",
       "      <td>32.489451</td>\n",
       "      <td>47.932489</td>\n",
       "    </tr>\n",
       "    <tr>\n",
       "      <th>1</th>\n",
       "      <td>346</td>\n",
       "      <td>26</td>\n",
       "      <td>26</td>\n",
       "      <td>92</td>\n",
       "      <td>320</td>\n",
       "      <td>320</td>\n",
       "      <td>96</td>\n",
       "      <td>43</td>\n",
       "      <td>38</td>\n",
       "      <td>11</td>\n",
       "      <td>...</td>\n",
       "      <td>0.3125</td>\n",
       "      <td>0.000000</td>\n",
       "      <td>0.937500</td>\n",
       "      <td>1.250000</td>\n",
       "      <td>0.000000</td>\n",
       "      <td>0.000000</td>\n",
       "      <td>1.250000</td>\n",
       "      <td>0.625000</td>\n",
       "      <td>32.187500</td>\n",
       "      <td>46.875000</td>\n",
       "    </tr>\n",
       "    <tr>\n",
       "      <th>2</th>\n",
       "      <td>347</td>\n",
       "      <td>78</td>\n",
       "      <td>78</td>\n",
       "      <td>479</td>\n",
       "      <td>1358</td>\n",
       "      <td>1357</td>\n",
       "      <td>411</td>\n",
       "      <td>154</td>\n",
       "      <td>207</td>\n",
       "      <td>44</td>\n",
       "      <td>...</td>\n",
       "      <td>0.0000</td>\n",
       "      <td>0.147275</td>\n",
       "      <td>0.810015</td>\n",
       "      <td>0.441826</td>\n",
       "      <td>0.147275</td>\n",
       "      <td>0.000000</td>\n",
       "      <td>2.061856</td>\n",
       "      <td>0.220913</td>\n",
       "      <td>29.307806</td>\n",
       "      <td>50.515464</td>\n",
       "    </tr>\n",
       "    <tr>\n",
       "      <th>3</th>\n",
       "      <td>348</td>\n",
       "      <td>78</td>\n",
       "      <td>78</td>\n",
       "      <td>578</td>\n",
       "      <td>1708</td>\n",
       "      <td>1708</td>\n",
       "      <td>372</td>\n",
       "      <td>200</td>\n",
       "      <td>401</td>\n",
       "      <td>48</td>\n",
       "      <td>...</td>\n",
       "      <td>0.0000</td>\n",
       "      <td>0.117096</td>\n",
       "      <td>0.585480</td>\n",
       "      <td>0.409836</td>\n",
       "      <td>0.000000</td>\n",
       "      <td>0.000000</td>\n",
       "      <td>2.868852</td>\n",
       "      <td>0.409836</td>\n",
       "      <td>30.210773</td>\n",
       "      <td>48.419204</td>\n",
       "    </tr>\n",
       "    <tr>\n",
       "      <th>4</th>\n",
       "      <td>349</td>\n",
       "      <td>52</td>\n",
       "      <td>52</td>\n",
       "      <td>282</td>\n",
       "      <td>810</td>\n",
       "      <td>811</td>\n",
       "      <td>268</td>\n",
       "      <td>110</td>\n",
       "      <td>132</td>\n",
       "      <td>23</td>\n",
       "      <td>...</td>\n",
       "      <td>0.0000</td>\n",
       "      <td>0.000000</td>\n",
       "      <td>0.246914</td>\n",
       "      <td>0.246914</td>\n",
       "      <td>0.000000</td>\n",
       "      <td>0.000000</td>\n",
       "      <td>2.716049</td>\n",
       "      <td>0.370370</td>\n",
       "      <td>24.938272</td>\n",
       "      <td>52.098765</td>\n",
       "    </tr>\n",
       "  </tbody>\n",
       "</table>\n",
       "<p>5 rows × 54 columns</p>\n",
       "</div>"
      ],
      "text/plain": [
       "   Sección  id distrito  Distrito  total boletas sobrantes  \\\n",
       "0      345           78        78                      443   \n",
       "1      346           26        26                       92   \n",
       "2      347           78        78                      479   \n",
       "3      348           78        78                      578   \n",
       "4      349           52        52                      282   \n",
       "\n",
       "   total personas votaron  total votos sacados  PAN  PRI  PRD  PVEM  \\\n",
       "0                    1185                 1179  254  115  262    35   \n",
       "1                     320                  320   96   43   38    11   \n",
       "2                    1358                 1357  411  154  207    44   \n",
       "3                    1708                 1708  372  200  401    48   \n",
       "4                     810                  811  268  110  132    23   \n",
       "\n",
       "         ...          %C.Común (PT-PES)  %C.Común (MORENA-PES)  \\\n",
       "0        ...                     0.0000               0.168776   \n",
       "1        ...                     0.3125               0.000000   \n",
       "2        ...                     0.0000               0.147275   \n",
       "3        ...                     0.0000               0.117096   \n",
       "4        ...                     0.0000               0.000000   \n",
       "\n",
       "   %Coalición (PAN-PRD-MC)  %Coalición (PAN-PRD)  %Coalición (PAN-MC)  \\\n",
       "0                 1.265823              0.337553             0.000000   \n",
       "1                 0.937500              1.250000             0.000000   \n",
       "2                 0.810015              0.441826             0.147275   \n",
       "3                 0.585480              0.409836             0.000000   \n",
       "4                 0.246914              0.246914             0.000000   \n",
       "\n",
       "   %Coalición (PRD-MC)    %Nulos  %No registrados  %TOTAL_MORENA-PES-PT  \\\n",
       "0             0.084388  1.772152         0.337553             32.489451   \n",
       "1             0.000000  1.250000         0.625000             32.187500   \n",
       "2             0.000000  2.061856         0.220913             29.307806   \n",
       "3             0.000000  2.868852         0.409836             30.210773   \n",
       "4             0.000000  2.716049         0.370370             24.938272   \n",
       "\n",
       "   %TOTAL_PAN-PRD-MC  \n",
       "0          47.932489  \n",
       "1          46.875000  \n",
       "2          50.515464  \n",
       "3          48.419204  \n",
       "4          52.098765  \n",
       "\n",
       "[5 rows x 54 columns]"
      ]
     },
     "execution_count": 128,
     "metadata": {},
     "output_type": "execute_result"
    }
   ],
   "source": [
    "df.head()"
   ]
  },
  {
   "cell_type": "code",
   "execution_count": 129,
   "metadata": {},
   "outputs": [],
   "source": [
    "#Definimos la función par calcular el IHH y el IRAE con la sguiente función.\n",
    "#El resusltado en una lista con los IRAE por sección electoral.7\n",
    "#Recibe:\n",
    "#data: El data frame con los datos(csv,xls,xlsx,etc.)\n",
    "#names:nombre de las columnas del los votos de los partidos o cantidatos.\n",
    "#t=Nombre de la columna con el nombre de las bases \n",
    "def irae(data,names,t):\n",
    "    lista=[]\n",
    "    IRAE=[]\n",
    "    #Calcula los cocientes de los partidos o candidatos\n",
    "    for i in names:\n",
    "        lista.append(list((round(df[i]/df[t],4)**2)))\n",
    "    #Calcula el índice RAE\n",
    "    for j in range(len(lista[0])):\n",
    "        a=0\n",
    "        for h in range(len(lista)):\n",
    "            a+=lista[h][j]\n",
    "        IRAE.append(round(1-round(a,4),4))\n",
    "    return(IRAE)   "
   ]
  },
  {
   "cell_type": "code",
   "execution_count": 130,
   "metadata": {},
   "outputs": [
    {
     "data": {
      "text/plain": [
       "Index(['Sección', 'id distrito', 'Distrito', 'total boletas sobrantes',\n",
       "       'total personas votaron', 'total votos sacados', 'PAN', 'PRI', 'PRD',\n",
       "       'PVEM', 'PT', 'MC', 'NA', 'MORENA', 'PES', 'PH',\n",
       "       'C.Común (PT-MORENA-PES)', 'C.Común (PT-MORENA)', 'C.Común (PT-PES)',\n",
       "       'C.Común (MORENA-PES)', 'Coalición (PAN-PRD-MC)', 'Coalición (PAN-PRD)',\n",
       "       'Coalición (PAN-MC)', 'Coalición (PRD-MC)', 'TOTAL PAN-PRD-MC',\n",
       "       'TOTAL MORENA-PT-PES', 'Nulos', 'No registrados',\n",
       "       'total votos asentados', 'total votos calculados', 'PADRON_TOTAL',\n",
       "       'LISTANOMINAL_TOTAL', '%PAN', '%PRI', '%PRD', '%PVEM', '%PT', '%MC',\n",
       "       '%NA', '%MORENA', '%PES', '%PH', '%C.Común (PT-MORENA-PES)',\n",
       "       '%C.Común (PT-MORENA)', '%C.Común (PT-PES)', '%C.Común (MORENA-PES)',\n",
       "       '%Coalición (PAN-PRD-MC)', '%Coalición (PAN-PRD)',\n",
       "       '%Coalición (PAN-MC)', '%Coalición (PRD-MC)', '%Nulos',\n",
       "       '%No registrados', '%TOTAL_MORENA-PES-PT', '%TOTAL_PAN-PRD-MC'],\n",
       "      dtype='object')"
      ]
     },
     "execution_count": 130,
     "metadata": {},
     "output_type": "execute_result"
    }
   ],
   "source": [
    "df.columns"
   ]
  },
  {
   "cell_type": "code",
   "execution_count": 131,
   "metadata": {},
   "outputs": [],
   "source": [
    "pt=irae(df,[\"TOTAL PAN-PRD-MC\",\"TOTAL MORENA-PT-PES\",\"PRI\",\"NA\",\"PH\",\"PVEM\"],\"total personas votaron\")"
   ]
  },
  {
   "cell_type": "code",
   "execution_count": 137,
   "metadata": {},
   "outputs": [
    {
     "data": {
      "image/png": "[encoded data removed]",
      "text/plain": [
       "<matplotlib.figure.Figure at 0x7ff11fccb470>"
      ]
     },
     "metadata": {},
     "output_type": "display_data"
    }
   ],
   "source": [
    "plt.hist(pt)\n",
    "plt.show()"
   ]
  },
  {
   "cell_type": "code",
   "execution_count": 139,
   "metadata": {},
   "outputs": [],
   "source": [
    "df[\"IRAE\"]=pd.DataFrame(pt)    "
   ]
  },
  {
   "cell_type": "code",
   "execution_count": 143,
   "metadata": {},
   "outputs": [
    {
     "data": {
      "text/plain": [
       "0.7128"
      ]
     },
     "execution_count": 143,
     "metadata": {},
     "output_type": "execute_result"
    }
   ],
   "source": [
    "max(pt)"
   ]
  },
  {
   "cell_type": "code",
   "execution_count": 144,
   "metadata": {},
   "outputs": [
    {
     "data": {
      "text/plain": [
       "0.4829"
      ]
     },
     "execution_count": 144,
     "metadata": {},
     "output_type": "execute_result"
    }
   ],
   "source": [
    "min(pt)"
   ]
  },
  {
   "cell_type": "code",
   "execution_count": 145,
   "metadata": {},
   "outputs": [],
   "source": [
    "#Guardamos está nueva base con el IRAE incluido\n",
    "write=pd.ExcelWriter('/home/diego/Escritorio/Thesis/clean_data/data/elecciones_09_12_15_18/co_2018.xlsx')\n",
    "df.to_excel(write,\"hoja de calculo\",index=False)\n",
    "write.save()"
   ]
  },
  {
   "cell_type": "code",
   "execution_count": null,
   "metadata": {},
   "outputs": [],
   "source": []
  }
 ],
 "metadata": {
  "kernelspec": {
   "display_name": "Python 3",
   "language": "python",
   "name": "python3"
  },
  "language_info": {
   "codemirror_mode": {
    "name": "ipython",
    "version": 3
   },
   "file_extension": ".py",
   "mimetype": "text/x-python",
   "name": "python",
   "nbconvert_exporter": "python",
   "pygments_lexer": "ipython3",
   "version": "3.7.3"
  }
 },
 "nbformat": 4,
 "nbformat_minor": 2
}
