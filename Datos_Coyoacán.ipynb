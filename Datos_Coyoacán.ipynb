{
 "cells": [
  {
   "cell_type": "code",
   "execution_count": 2,
   "metadata": {},
   "outputs": [],
   "source": [
    "import numpy as np\n",
    "import pandas as pd\n",
    "import matplotlib.pyplot as plt\n",
    "import matplotlib\n",
    "from pandas import ExcelWriter\n",
    "%matplotlib inline"
   ]
  },
  {
   "cell_type": "code",
   "execution_count": 3,
   "metadata": {},
   "outputs": [],
   "source": [
    "ruta=\"/home/diego/Escritorio/Thesis/data/Datos BCCCI/Coyoacán\""
   ]
  },
  {
   "cell_type": "markdown",
   "metadata": {},
   "source": [
    "# DATOS COYOACAN REPARACIÓN 2014"
   ]
  },
  {
   "cell_type": "code",
   "execution_count": 4,
   "metadata": {},
   "outputs": [],
   "source": [
    "dt4=pd.read_excel(\"/home/diego/Escritorio/Thesis/data/Datos BCCCI/Coyoacán data/TRANSFERENCIAS INTEGRALES POR TI_2014_2.xlsx\")"
   ]
  },
  {
   "cell_type": "code",
   "execution_count": 5,
   "metadata": {},
   "outputs": [],
   "source": [
    "dt6=pd.read_excel(ruta+\"/POR TI SUBPROGRAMA BIENESTAR_2016.xlsx\")"
   ]
  },
  {
   "cell_type": "markdown",
   "metadata": {},
   "source": [
    "writer = ExcelWriter('/home/diego/Escritorio/Thesis/data/Datos BCCCI/Coyoacán/TRANSFERENCIAS INTEGRALES POR TI_2014_2.xlsx')\n",
    "dt.to_excel(writer, 'hoja de calculo', index=False)\n",
    "writer.save()"
   ]
  },
  {
   "cell_type": "code",
   "execution_count": 6,
   "metadata": {},
   "outputs": [],
   "source": [
    "_2016=list(dt6[\"UNIDAD TERRITORIAL\"].unique())"
   ]
  },
  {
   "cell_type": "code",
   "execution_count": 7,
   "metadata": {},
   "outputs": [],
   "source": [
    "_2014=list(dt4[\"UNIDAD TERRITORIAL\"].unique())"
   ]
  },
  {
   "cell_type": "code",
   "execution_count": 8,
   "metadata": {},
   "outputs": [],
   "source": [
    "a=list(dt4[\"UNIDAD TERRITORIAL\"].unique())\n",
    "a=sorted(a)\n",
    "b=list(dt6[\"UNIDAD TERRITORIAL\"].unique())\n",
    "b=sorted(b)"
   ]
  },
  {
   "cell_type": "code",
   "execution_count": 9,
   "metadata": {
    "scrolled": true
   },
   "outputs": [
    {
     "name": "stdout",
     "output_type": "stream",
     "text": [
      "CAMPESTRE COYOACAN\n",
      "EJIDO VIEJO DE SANTA URSULA COAPA\n",
      "EL PARQUE DE COYOACAN\n",
      "HACIENDAS DE COYOACAN\n",
      "INTEGRACION LATINOAMERICANA, U.H.\n",
      "PEDREGAL DE COYOACAN, U.H.\n"
     ]
    }
   ],
   "source": [
    "lista=[]\n",
    "for i in a:\n",
    "    if i not in b:\n",
    "        lista.append(i)\n",
    "        print(i)"
   ]
  },
  {
   "cell_type": "code",
   "execution_count": 10,
   "metadata": {},
   "outputs": [],
   "source": [
    "col=sorted(b+lista)"
   ]
  },
  {
   "cell_type": "code",
   "execution_count": 11,
   "metadata": {},
   "outputs": [
    {
     "ename": "ValueError",
     "evalue": "list.remove(x): x not in list",
     "output_type": "error",
     "traceback": [
      "\u001b[0;31m---------------------------------------------------------------------------\u001b[0m",
      "\u001b[0;31mValueError\u001b[0m                                Traceback (most recent call last)",
      "\u001b[0;32m<ipython-input-11-f7a93864084a>\u001b[0m in \u001b[0;36m<module>\u001b[0;34m()\u001b[0m\n\u001b[0;32m----> 1\u001b[0;31m \u001b[0mcol\u001b[0m\u001b[0;34m.\u001b[0m\u001b[0mremove\u001b[0m\u001b[0;34m(\u001b[0m\u001b[0;34m\"SAN LUCAS\"\u001b[0m\u001b[0;34m)\u001b[0m\u001b[0;34m\u001b[0m\u001b[0m\n\u001b[0m",
      "\u001b[0;31mValueError\u001b[0m: list.remove(x): x not in list"
     ]
    }
   ],
   "source": [
    "col.remove(\"SAN LUCAS\")"
   ]
  },
  {
   "cell_type": "code",
   "execution_count": 12,
   "metadata": {},
   "outputs": [
    {
     "data": {
      "text/plain": [
       "123"
      ]
     },
     "execution_count": 12,
     "metadata": {},
     "output_type": "execute_result"
    }
   ],
   "source": [
    "len(col)"
   ]
  },
  {
   "cell_type": "markdown",
   "metadata": {},
   "source": [
    "# Reparar datos 2017"
   ]
  },
  {
   "cell_type": "code",
   "execution_count": 13,
   "metadata": {},
   "outputs": [],
   "source": [
    "lista_final=col.copy()\n",
    "#lista_final.remove(\"SAN LUCAS\")\n",
    "lista.append(\"EJIDO VIEJO DE SANTA URSULA COAPA\")\n",
    "lista_final.remove(\"EJIDO VIEJO DE SANTA URSULA\")"
   ]
  },
  {
   "cell_type": "code",
   "execution_count": 14,
   "metadata": {},
   "outputs": [],
   "source": [
    "for i in lista_final:\n",
    "    if i not in col:\n",
    "        print(i)\n",
    "len(lista_final)\n",
    "#lista_final.remove(\"VIEJO EJIDO DE SANTA URSULA COAPA\")\n",
    "lista_final.append(\"EJIDO VIEJO DE SANTA URSULA COAPA\")\n",
    "lista_final.append(\"GENERAL ANAYA\")\n",
    "lista_final.append(\"CUCHILLA DE LA MAGDALENA\")\n",
    "lista_final.append(\"LOS SAUCES\")\n",
    "lista_final.append(\"VILLAS DEL PEDREGAL, U.H.\")\n",
    "#lista_final.remove(\"AMPÑIACION CANDELARIA\")\n",
    "lista_final.append(\"SAN PABLO TEPETLAPA\")\n",
    "lista_final.append(\"AMPLIACION CANDELARIA\")\n",
    "#lista_final.append(\"EX-HACIENDA COAPA\")"
   ]
  },
  {
   "cell_type": "code",
   "execution_count": 17,
   "metadata": {},
   "outputs": [],
   "source": [
    "lista_final.append(\"BARRIO OXTOPULCO UNIVERSIDAD\")"
   ]
  },
  {
   "cell_type": "code",
   "execution_count": 19,
   "metadata": {},
   "outputs": [],
   "source": [
    "lista_final.append(\"EX-HACIENDA COAPA\")"
   ]
  },
  {
   "cell_type": "code",
   "execution_count": 20,
   "metadata": {
    "scrolled": false
   },
   "outputs": [
    {
     "name": "stdout",
     "output_type": "stream",
     "text": [
      "SAN FRANCISCO CULHUACAN\n",
      "CTM CULHUACAN\n",
      "CULHUACAN\n",
      "HAB CTM CULHUACAN SECC 8\n",
      "U HAB CTM CULHUACAN ZONA 18\n",
      "HAB CTM X CULHUACAN\n",
      "U H CTM CULHUACAN\n",
      "HAB CTM CULHUACAN\n",
      "U HAB CTM CULHUACAN\n",
      "ZONA 9\n",
      "U CTM CULHUACAN\n",
      "N\n",
      "U HAB CTM IX CULHUACAN\n",
      "U HAB CTM CULHUACAN\n",
      "U HAB CULHUACAN\n",
      "HAB CTM CULHUACAN Z\n",
      "U H TLALPAN\n",
      "16\n"
     ]
    }
   ],
   "source": [
    "dt7=pd.read_excel(\"/home/diego/Escritorio/Thesis/data/Datos BCCCI/Coyoacán data/POR TI SUBPROGRAMA BIENESTAR_2017_3.xlsx\")\n",
    "\n",
    "_2017=list(dt7[\"U.T.\"].unique())\n",
    "\n",
    "O=0\n",
    "for i in _2017:\n",
    "    if i not in lista_final:\n",
    "        O+=1\n",
    "        print(i)\n",
    "print(O)"
   ]
  },
  {
   "cell_type": "markdown",
   "metadata": {},
   "source": [
    "dt7[[\"U.T.\"]]=dt7[[\"U.T.\"]].replace(\"PUEBO DE LOS REYES\",\"PUEBLO DE LOS REYES\")"
   ]
  },
  {
   "cell_type": "code",
   "execution_count": 21,
   "metadata": {},
   "outputs": [],
   "source": [
    "dt7=dt7.dropna()"
   ]
  },
  {
   "cell_type": "code",
   "execution_count": 22,
   "metadata": {},
   "outputs": [
    {
     "data": {
      "text/html": [
       "<div>\n",
       "<style>\n",
       "    .dataframe thead tr:only-child th {\n",
       "        text-align: right;\n",
       "    }\n",
       "\n",
       "    .dataframe thead th {\n",
       "        text-align: left;\n",
       "    }\n",
       "\n",
       "    .dataframe tbody tr th {\n",
       "        vertical-align: top;\n",
       "    }\n",
       "</style>\n",
       "<table border=\"1\" class=\"dataframe\">\n",
       "  <thead>\n",
       "    <tr style=\"text-align: right;\">\n",
       "      <th></th>\n",
       "      <th>CONSECUTIVO</th>\n",
       "      <th>PATERNO</th>\n",
       "      <th>MATERNO</th>\n",
       "      <th>NOMBRE</th>\n",
       "      <th>U.T.</th>\n",
       "      <th>DELEGACIÓN</th>\n",
       "      <th>EDAD</th>\n",
       "      <th>SEXO</th>\n",
       "      <th>MONTO, RECURSO , BENEFICI O, APOYO OTORGADO</th>\n",
       "    </tr>\n",
       "  </thead>\n",
       "  <tbody>\n",
       "  </tbody>\n",
       "</table>\n",
       "</div>"
      ],
      "text/plain": [
       "Empty DataFrame\n",
       "Columns: [CONSECUTIVO, PATERNO, MATERNO, NOMBRE, U.T., DELEGACIÓN, EDAD, SEXO, MONTO, RECURSO , BENEFICI O, APOYO OTORGADO]\n",
       "Index: []"
      ]
     },
     "execution_count": 22,
     "metadata": {},
     "output_type": "execute_result"
    }
   ],
   "source": [
    "dt7[dt7[\"U.T.\"].isnull()==True]"
   ]
  },
  {
   "cell_type": "markdown",
   "metadata": {
    "scrolled": true
   },
   "source": [
    "writer = ExcelWriter('/home/diego/Escritorio/Thesis/data/Datos BCCCI/Coyoacán data/POR TI SUBPROGRAMA BIENESTAR_2017_3.xlsx')\n",
    "dt7.to_excel(writer, 'hoja de calculo', index=False)\n",
    "writer.save()"
   ]
  },
  {
   "cell_type": "markdown",
   "metadata": {},
   "source": [
    "# Reparacion de los datos 2015"
   ]
  },
  {
   "cell_type": "code",
   "execution_count": 23,
   "metadata": {},
   "outputs": [
    {
     "data": {
      "text/plain": [
       "631"
      ]
     },
     "execution_count": 23,
     "metadata": {},
     "output_type": "execute_result"
    }
   ],
   "source": [
    "xl = pd.ExcelFile(\"/home/diego/Escritorio/Thesis/data/Datos BCCCI/Coyoacán/TRANSFERENCIAS INTEGRALES POR  TI_2015.xlsx\")\n",
    "res = len(xl.sheet_names)\n",
    "res"
   ]
  },
  {
   "cell_type": "code",
   "execution_count": 24,
   "metadata": {},
   "outputs": [],
   "source": [
    "df=pd.ExcelFile(\"/home/diego/Escritorio/Thesis/data/Datos BCCCI/Coyoacán/TRANSFERENCIAS INTEGRALES POR  TI_2015.xlsx\")"
   ]
  },
  {
   "cell_type": "code",
   "execution_count": 25,
   "metadata": {},
   "outputs": [],
   "source": [
    "lista=[]\n",
    "columnas=pd.read_excel(df,'Sheet2')\n",
    "for i in range(2,632):\n",
    "    data=pd.read_excel(df,'Sheet%i'%i,header=None)\n",
    "    data.columns =list(columnas.columns)\n",
    "    lista.append(data)"
   ]
  },
  {
   "cell_type": "code",
   "execution_count": 26,
   "metadata": {},
   "outputs": [],
   "source": [
    "data=pd.concat(lista)"
   ]
  },
  {
   "cell_type": "code",
   "execution_count": 27,
   "metadata": {},
   "outputs": [
    {
     "data": {
      "text/html": [
       "<div>\n",
       "<style>\n",
       "    .dataframe thead tr:only-child th {\n",
       "        text-align: right;\n",
       "    }\n",
       "\n",
       "    .dataframe thead th {\n",
       "        text-align: left;\n",
       "    }\n",
       "\n",
       "    .dataframe tbody tr th {\n",
       "        vertical-align: top;\n",
       "    }\n",
       "</style>\n",
       "<table border=\"1\" class=\"dataframe\">\n",
       "  <thead>\n",
       "    <tr style=\"text-align: right;\">\n",
       "      <th></th>\n",
       "      <th>CONSECUTIVO</th>\n",
       "      <th>U.T.</th>\n",
       "    </tr>\n",
       "  </thead>\n",
       "  <tbody>\n",
       "    <tr>\n",
       "      <th>0</th>\n",
       "      <td>CONSECUTIVO</td>\n",
       "      <td>U.T.</td>\n",
       "    </tr>\n",
       "    <tr>\n",
       "      <th>1</th>\n",
       "      <td>1</td>\n",
       "      <td>PEDREGAL DE SANTA</td>\n",
       "    </tr>\n",
       "    <tr>\n",
       "      <th>2</th>\n",
       "      <td>NaN</td>\n",
       "      <td>URSULA</td>\n",
       "    </tr>\n",
       "    <tr>\n",
       "      <th>3</th>\n",
       "      <td>2</td>\n",
       "      <td>AJUSCO</td>\n",
       "    </tr>\n",
       "    <tr>\n",
       "      <th>4</th>\n",
       "      <td>3</td>\n",
       "      <td>CULHUACAN CTM</td>\n",
       "    </tr>\n",
       "  </tbody>\n",
       "</table>\n",
       "</div>"
      ],
      "text/plain": [
       "   CONSECUTIVO               U.T.\n",
       "0  CONSECUTIVO               U.T.\n",
       "1            1  PEDREGAL DE SANTA\n",
       "2          NaN             URSULA\n",
       "3            2             AJUSCO\n",
       "4            3      CULHUACAN CTM"
      ]
     },
     "execution_count": 27,
     "metadata": {},
     "output_type": "execute_result"
    }
   ],
   "source": [
    "data[[\"CONSECUTIVO\",\"U.T.\"]].head()"
   ]
  },
  {
   "cell_type": "code",
   "execution_count": 28,
   "metadata": {},
   "outputs": [
    {
     "data": {
      "text/plain": [
       "'U.T.'"
      ]
     },
     "execution_count": 28,
     "metadata": {},
     "output_type": "execute_result"
    }
   ],
   "source": [
    "#marco los null con -1 en ambos casos\n",
    "num=list(data[\"CONSECUTIVO\"].fillna(-1))\n",
    "names=list(data[\"U.T.\"].fillna(-1))\n",
    "num.pop(0)\n",
    "names.pop(0)"
   ]
  },
  {
   "cell_type": "code",
   "execution_count": 29,
   "metadata": {},
   "outputs": [],
   "source": [
    "#Elimina el dato de la lista\n",
    "for i in range(7):\n",
    "    num.remove('CONSECUTIVO')\n",
    "    names.remove(\"U.T.\")"
   ]
  },
  {
   "cell_type": "code",
   "execution_count": 30,
   "metadata": {},
   "outputs": [],
   "source": [
    "pairs=[]\n",
    "for a,b in zip(num,names):\n",
    "    pairs.append([a,b])"
   ]
  },
  {
   "cell_type": "code",
   "execution_count": 31,
   "metadata": {},
   "outputs": [],
   "source": [
    "new=[]\n",
    "#elimina lo que tenga -1 y null \n",
    "pairs2=[]\n",
    "for i in pairs:\n",
    "    if i[1]!=-1:\n",
    "        pairs2.append(i)\n",
    "\n",
    "for i in range(len(pairs2)-1):\n",
    "    if pairs2[i][0]!=-1:\n",
    "        if pairs2[i][1] in lista_final:\n",
    "            new.append([pairs2[i][0],pairs2[i][1]])\n",
    "        else:\n",
    "            if pairs2[i+1][0]==-1:\n",
    "                new.append([pairs2[i][0],pairs2[i][1]+\" \"+pairs2[i+1][1]])\n",
    "            else:\n",
    "                new.append([pairs2[i][0],pairs2[i][1]])\n",
    "#for i in range(len(pairs)-1): \n",
    "#   if pairs[i][0]!=-1:"
   ]
  },
  {
   "cell_type": "code",
   "execution_count": 32,
   "metadata": {},
   "outputs": [
    {
     "data": {
      "text/plain": [
       "25154"
      ]
     },
     "execution_count": 32,
     "metadata": {},
     "output_type": "execute_result"
    }
   ],
   "source": [
    "len(pairs2)"
   ]
  },
  {
   "cell_type": "code",
   "execution_count": 33,
   "metadata": {},
   "outputs": [],
   "source": [
    "nums=[]\n",
    "for i in new:\n",
    "    nums.append(i[0])"
   ]
  },
  {
   "cell_type": "code",
   "execution_count": 34,
   "metadata": {},
   "outputs": [
    {
     "ename": "ValueError",
     "evalue": "list.remove(x): x not in list",
     "output_type": "error",
     "traceback": [
      "\u001b[0;31m---------------------------------------------------------------------------\u001b[0m",
      "\u001b[0;31mValueError\u001b[0m                                Traceback (most recent call last)",
      "\u001b[0;32m<ipython-input-34-7e8e25c331e6>\u001b[0m in \u001b[0;36m<module>\u001b[0;34m()\u001b[0m\n\u001b[1;32m      1\u001b[0m \u001b[0;31m##Elimina repetidos innecesariosn\u001b[0m\u001b[0;34m\u001b[0m\u001b[0;34m\u001b[0m\u001b[0m\n\u001b[0;32m----> 2\u001b[0;31m \u001b[0mnum\u001b[0m\u001b[0;34m.\u001b[0m\u001b[0mremove\u001b[0m\u001b[0;34m(\u001b[0m\u001b[0;34m'CONSECUTIVO'\u001b[0m\u001b[0;34m)\u001b[0m\u001b[0;34m\u001b[0m\u001b[0m\n\u001b[0m\u001b[1;32m      3\u001b[0m \u001b[0;32mfor\u001b[0m \u001b[0mi\u001b[0m \u001b[0;32min\u001b[0m \u001b[0mnum\u001b[0m\u001b[0;34m:\u001b[0m\u001b[0;34m\u001b[0m\u001b[0m\n\u001b[1;32m      4\u001b[0m     \u001b[0;32mif\u001b[0m \u001b[0mi\u001b[0m\u001b[0;34m==\u001b[0m\u001b[0;34m\"CONSECUTIVO\"\u001b[0m\u001b[0;34m:\u001b[0m\u001b[0;34m\u001b[0m\u001b[0m\n\u001b[1;32m      5\u001b[0m         \u001b[0mprint\u001b[0m\u001b[0;34m(\u001b[0m\u001b[0mi\u001b[0m\u001b[0;34m)\u001b[0m\u001b[0;34m\u001b[0m\u001b[0m\n",
      "\u001b[0;31mValueError\u001b[0m: list.remove(x): x not in list"
     ]
    }
   ],
   "source": [
    "##Elimina repetidos innecesariosn\n",
    "num.remove('CONSECUTIVO')\n",
    "for i in num:\n",
    "    if i==\"CONSECUTIVO\":\n",
    "        print(i)\n",
    "        \n",
    "names.remove('U.T.')\n",
    "for i in names:\n",
    "    if i==\"U.T.\":\n",
    "        print(i)"
   ]
  },
  {
   "cell_type": "code",
   "execution_count": 35,
   "metadata": {},
   "outputs": [
    {
     "name": "stdout",
     "output_type": "stream",
     "text": [
      "25275 25275\n"
     ]
    }
   ],
   "source": [
    "print(len(num),len(names))"
   ]
  },
  {
   "cell_type": "code",
   "execution_count": 36,
   "metadata": {},
   "outputs": [],
   "source": [
    "a=list(range(1,13614))"
   ]
  },
  {
   "cell_type": "code",
   "execution_count": 37,
   "metadata": {},
   "outputs": [
    {
     "name": "stdout",
     "output_type": "stream",
     "text": [
      "[13603.0, 'PUEBLO LA CANDELARIA']\n"
     ]
    }
   ],
   "source": [
    "for i in new:\n",
    "    if i[0] ==13603:\n",
    "        print(i)"
   ]
  },
  {
   "cell_type": "code",
   "execution_count": 38,
   "metadata": {},
   "outputs": [],
   "source": [
    "numeros=list(range(1,13614))"
   ]
  },
  {
   "cell_type": "code",
   "execution_count": 39,
   "metadata": {},
   "outputs": [],
   "source": [
    "pares=[]\n",
    "for a,b in zip(numeros,nums):\n",
    "    pares.append([a,b])"
   ]
  },
  {
   "cell_type": "code",
   "execution_count": 40,
   "metadata": {},
   "outputs": [
    {
     "name": "stdout",
     "output_type": "stream",
     "text": [
      "[8148, 8149.0]\n"
     ]
    }
   ],
   "source": [
    "for i in pares:\n",
    "    if i[0]!=i[1]:\n",
    "        print(i)\n",
    "        break"
   ]
  },
  {
   "cell_type": "code",
   "execution_count": 41,
   "metadata": {},
   "outputs": [
    {
     "data": {
      "text/plain": [
       "13416.0"
      ]
     },
     "execution_count": 41,
     "metadata": {},
     "output_type": "execute_result"
    }
   ],
   "source": [
    "nums[13413]"
   ]
  },
  {
   "cell_type": "code",
   "execution_count": 42,
   "metadata": {},
   "outputs": [
    {
     "data": {
      "text/plain": [
       "[13414.0, 'ADOLFO RUIZ CORTINES']"
      ]
     },
     "execution_count": 42,
     "metadata": {},
     "output_type": "execute_result"
    }
   ],
   "source": [
    "new[8147]\n",
    "new.insert(8147,[8148,\"PEDREGAL DE SANTA URSULA\"])\n",
    "new[13413]\n",
    "new.insert(13413,[13415,\"PUEBLO DE LOS REYES\"])\n",
    "new[13413]\n",
    "new=sorted(new)\n",
    "new[13413]"
   ]
  },
  {
   "cell_type": "code",
   "execution_count": 43,
   "metadata": {},
   "outputs": [],
   "source": [
    "nums=[]\n",
    "for i in new:\n",
    "    nums.append(i[0])"
   ]
  },
  {
   "cell_type": "code",
   "execution_count": 44,
   "metadata": {},
   "outputs": [],
   "source": [
    "colonias=[]\n",
    "for i in new:\n",
    "    colonias.append(i[1])"
   ]
  },
  {
   "cell_type": "code",
   "execution_count": 45,
   "metadata": {},
   "outputs": [
    {
     "name": "stdout",
     "output_type": "stream",
     "text": [
      "13613 13613\n"
     ]
    }
   ],
   "source": [
    "print(len(nums),len(colonias))"
   ]
  },
  {
   "cell_type": "markdown",
   "metadata": {},
   "source": [
    "# Obtengo las otras columnas"
   ]
  },
  {
   "cell_type": "code",
   "execution_count": 46,
   "metadata": {},
   "outputs": [],
   "source": [
    "d2015=pd.ExcelFile(\"/home/diego/Escritorio/Thesis/data/Datos BCCCI/Coyoacán/TRANSFERENCIAS INTEGRALES POR  TI_2015.xlsx\")"
   ]
  },
  {
   "cell_type": "code",
   "execution_count": 47,
   "metadata": {},
   "outputs": [],
   "source": [
    "lista=[]\n",
    "columnas=pd.read_excel(d2015,'Sheet2')\n",
    "for i in range(2,632):\n",
    "    data=pd.read_excel(d2015,'Sheet%i'%i,header=None)\n",
    "    data.columns =list(columnas.columns)\n",
    "    lista.append(data)\n",
    "data=pd.concat(lista)"
   ]
  },
  {
   "cell_type": "code",
   "execution_count": 48,
   "metadata": {},
   "outputs": [],
   "source": [
    "#Elimino datos sobrantes\n",
    "data= data.dropna(how='any',axis=0,thresh=3) "
   ]
  },
  {
   "cell_type": "code",
   "execution_count": 49,
   "metadata": {},
   "outputs": [],
   "source": [
    "columnas=[x for x in data.columns if x!=\"CONSECUTIVO\" and x!=\"U.T.\" and x!=\"NOMBRE\"]"
   ]
  },
  {
   "cell_type": "code",
   "execution_count": 50,
   "metadata": {},
   "outputs": [],
   "source": [
    "columnas_final=[]\n",
    "for i in columnas:\n",
    "    a=list(data[i].dropna())\n",
    "    for j in range(8):\n",
    "        a.remove(i)\n",
    "    columnas_final.append(a)"
   ]
  },
  {
   "cell_type": "code",
   "execution_count": 51,
   "metadata": {},
   "outputs": [
    {
     "name": "stdout",
     "output_type": "stream",
     "text": [
      "NOMBRE\n",
      "NOMBRE\n",
      "NOMBRE\n",
      "NOMBRE\n",
      "NOMBRE\n",
      "NOMBRE\n",
      "NOMBRE\n",
      "NOMBRE\n"
     ]
    }
   ],
   "source": [
    "for i in list(data[\"NOMBRE\"]):\n",
    "    if i==\"NOMBRE\":\n",
    "        print(i)\n",
    "NOMBRE=list(data[\"NOMBRE\"])"
   ]
  },
  {
   "cell_type": "code",
   "execution_count": 52,
   "metadata": {},
   "outputs": [],
   "source": [
    "NOMBRE.remove(\"NOMBRE\")"
   ]
  },
  {
   "cell_type": "code",
   "execution_count": 53,
   "metadata": {},
   "outputs": [
    {
     "data": {
      "text/plain": [
       "['PATERNO', 'MATERNO', 'DELEGACION', 'SEXO', 'EDAD']"
      ]
     },
     "execution_count": 53,
     "metadata": {},
     "output_type": "execute_result"
    }
   ],
   "source": [
    "columnas"
   ]
  },
  {
   "cell_type": "code",
   "execution_count": 54,
   "metadata": {},
   "outputs": [],
   "source": [
    "PATERNO=columnas_final[0]\n",
    "MATERNO=columnas_final[1]\n",
    "DELEGACION=columnas_final[2]\n",
    "SEXO=columnas_final[3]\n",
    "EDAD=columnas_final[4]"
   ]
  },
  {
   "cell_type": "code",
   "execution_count": 55,
   "metadata": {},
   "outputs": [
    {
     "name": "stdout",
     "output_type": "stream",
     "text": [
      "13613 13613 13620 13613 13613 13613\n"
     ]
    }
   ],
   "source": [
    "print(len(PATERNO),len(MATERNO),len(NOMBRE),len(DELEGACION),len(SEXO),len(EDAD))"
   ]
  },
  {
   "cell_type": "code",
   "execution_count": 56,
   "metadata": {},
   "outputs": [
    {
     "ename": "NameError",
     "evalue": "name 'consecutivo' is not defined",
     "output_type": "error",
     "traceback": [
      "\u001b[0;31m---------------------------------------------------------------------------\u001b[0m",
      "\u001b[0;31mNameError\u001b[0m                                 Traceback (most recent call last)",
      "\u001b[0;32m<ipython-input-56-bc67b32fea55>\u001b[0m in \u001b[0;36m<module>\u001b[0;34m()\u001b[0m\n\u001b[0;32m----> 1\u001b[0;31m \u001b[0mconsecutivo\u001b[0m\u001b[0;34m[\u001b[0m\u001b[0;34m\"PATERNO\"\u001b[0m\u001b[0;34m]\u001b[0m\u001b[0;34m=\u001b[0m\u001b[0mpd\u001b[0m\u001b[0;34m.\u001b[0m\u001b[0mDataFrame\u001b[0m\u001b[0;34m(\u001b[0m\u001b[0mPATERNO\u001b[0m\u001b[0;34m)\u001b[0m\u001b[0;34m\u001b[0m\u001b[0m\n\u001b[0m\u001b[1;32m      2\u001b[0m \u001b[0mconsecutivo\u001b[0m\u001b[0;34m[\u001b[0m\u001b[0;34m\"MATERNO\"\u001b[0m\u001b[0;34m]\u001b[0m\u001b[0;34m=\u001b[0m\u001b[0mpd\u001b[0m\u001b[0;34m.\u001b[0m\u001b[0mDataFrame\u001b[0m\u001b[0;34m(\u001b[0m\u001b[0mMATERNO\u001b[0m\u001b[0;34m)\u001b[0m\u001b[0;34m\u001b[0m\u001b[0m\n\u001b[1;32m      3\u001b[0m \u001b[0mconsecutivo\u001b[0m\u001b[0;34m[\u001b[0m\u001b[0;34m\"NOMBRE\"\u001b[0m\u001b[0;34m]\u001b[0m\u001b[0;34m=\u001b[0m\u001b[0mpd\u001b[0m\u001b[0;34m.\u001b[0m\u001b[0mDataFrame\u001b[0m\u001b[0;34m(\u001b[0m\u001b[0mNOMBRE\u001b[0m\u001b[0;34m)\u001b[0m\u001b[0;34m\u001b[0m\u001b[0m\n\u001b[1;32m      4\u001b[0m \u001b[0mconsecutivo\u001b[0m\u001b[0;34m[\u001b[0m\u001b[0;34m\"UNIDAD TERRITORIAL\"\u001b[0m\u001b[0;34m]\u001b[0m\u001b[0;34m=\u001b[0m\u001b[0mpd\u001b[0m\u001b[0;34m.\u001b[0m\u001b[0mDataFrame\u001b[0m\u001b[0;34m(\u001b[0m\u001b[0mcolonias\u001b[0m\u001b[0;34m)\u001b[0m\u001b[0;34m\u001b[0m\u001b[0m\n\u001b[1;32m      5\u001b[0m \u001b[0mconsecutivo\u001b[0m\u001b[0;34m[\u001b[0m\u001b[0;34m\"DELEGACION\"\u001b[0m\u001b[0;34m]\u001b[0m\u001b[0;34m=\u001b[0m\u001b[0mpd\u001b[0m\u001b[0;34m.\u001b[0m\u001b[0mDataFrame\u001b[0m\u001b[0;34m(\u001b[0m\u001b[0mDELEGACION\u001b[0m\u001b[0;34m)\u001b[0m\u001b[0;34m\u001b[0m\u001b[0m\n",
      "\u001b[0;31mNameError\u001b[0m: name 'consecutivo' is not defined"
     ]
    }
   ],
   "source": [
    "consecutivo[\"PATERNO\"]=pd.DataFrame(PATERNO)\n",
    "consecutivo[\"MATERNO\"]=pd.DataFrame(MATERNO)\n",
    "consecutivo[\"NOMBRE\"]=pd.DataFrame(NOMBRE)\n",
    "consecutivo[\"UNIDAD TERRITORIAL\"]=pd.DataFrame(colonias)\n",
    "consecutivo[\"DELEGACION\"]=pd.DataFrame(DELEGACION)\n",
    "consecutivo[\"SEXO\"]=pd.DataFrame(SEXO)\n",
    "consecutivo[\"EDAD\"]=pd.DataFrame(EDAD)"
   ]
  },
  {
   "cell_type": "code",
   "execution_count": 57,
   "metadata": {
    "scrolled": true
   },
   "outputs": [
    {
     "ename": "NameError",
     "evalue": "name 'consecutivo' is not defined",
     "output_type": "error",
     "traceback": [
      "\u001b[0;31m---------------------------------------------------------------------------\u001b[0m",
      "\u001b[0;31mNameError\u001b[0m                                 Traceback (most recent call last)",
      "\u001b[0;32m<ipython-input-57-2e3bd673a9a4>\u001b[0m in \u001b[0;36m<module>\u001b[0;34m()\u001b[0m\n\u001b[0;32m----> 1\u001b[0;31m \u001b[0mconsecutivo\u001b[0m\u001b[0;34m\u001b[0m\u001b[0m\n\u001b[0m",
      "\u001b[0;31mNameError\u001b[0m: name 'consecutivo' is not defined"
     ]
    }
   ],
   "source": [
    "consecutivo"
   ]
  },
  {
   "cell_type": "code",
   "execution_count": 776,
   "metadata": {},
   "outputs": [],
   "source": [
    "writer = ExcelWriter('/home/diego/Escritorio/Thesis/data/Datos BCCCI/Coyoacán data/TRANSFERENCIAS INTEGRALES POR TI_2015_3.xlsx')\n",
    "consecutivo.to_excel(writer, 'hoja de calculo', index=False)\n",
    "writer.save()"
   ]
  },
  {
   "cell_type": "markdown",
   "metadata": {},
   "source": [
    "# HOMOGENEIZACION LOS NOMBRES DE LAS COLONIAS"
   ]
  },
  {
   "cell_type": "code",
   "execution_count": 59,
   "metadata": {},
   "outputs": [],
   "source": [
    "new_data=pd.read_excel(\"/home/diego/Escritorio/Thesis/data/Datos BCCCI/Coyoacán data/TRANSFERENCIAS INTEGRALES POR TI_2015_3.xlsx\")"
   ]
  },
  {
   "cell_type": "code",
   "execution_count": 60,
   "metadata": {},
   "outputs": [
    {
     "data": {
      "text/html": [
       "<div>\n",
       "<style>\n",
       "    .dataframe thead tr:only-child th {\n",
       "        text-align: right;\n",
       "    }\n",
       "\n",
       "    .dataframe thead th {\n",
       "        text-align: left;\n",
       "    }\n",
       "\n",
       "    .dataframe tbody tr th {\n",
       "        vertical-align: top;\n",
       "    }\n",
       "</style>\n",
       "<table border=\"1\" class=\"dataframe\">\n",
       "  <thead>\n",
       "    <tr style=\"text-align: right;\">\n",
       "      <th></th>\n",
       "      <th>CONSECUTIVO</th>\n",
       "      <th>PATERNO</th>\n",
       "      <th>MATERNO</th>\n",
       "      <th>NOMBRE</th>\n",
       "      <th>UNIDAD TERRITORIAL</th>\n",
       "      <th>DELEGACION</th>\n",
       "      <th>SEXO</th>\n",
       "      <th>EDAD</th>\n",
       "    </tr>\n",
       "  </thead>\n",
       "  <tbody>\n",
       "    <tr>\n",
       "      <th>0</th>\n",
       "      <td>1</td>\n",
       "      <td>.</td>\n",
       "      <td>ALQUICIRA</td>\n",
       "      <td>IRMA</td>\n",
       "      <td>PEDREGAL DE SANTA URSULA</td>\n",
       "      <td>COYOACAN</td>\n",
       "      <td>FEMENINO</td>\n",
       "      <td>66</td>\n",
       "    </tr>\n",
       "    <tr>\n",
       "      <th>1</th>\n",
       "      <td>2</td>\n",
       "      <td>.</td>\n",
       "      <td>ALVARADO</td>\n",
       "      <td>YOLANDA FRANCISCA</td>\n",
       "      <td>AJUSCO</td>\n",
       "      <td>COYOACAN</td>\n",
       "      <td>FEMENINO</td>\n",
       "      <td>56</td>\n",
       "    </tr>\n",
       "    <tr>\n",
       "      <th>2</th>\n",
       "      <td>3</td>\n",
       "      <td>.</td>\n",
       "      <td>BAÑOS</td>\n",
       "      <td>MARIA DE LOS</td>\n",
       "      <td>CULHUACAN CTM SECCION X-A</td>\n",
       "      <td>COYOACAN</td>\n",
       "      <td>FEMENINO</td>\n",
       "      <td>66</td>\n",
       "    </tr>\n",
       "    <tr>\n",
       "      <th>3</th>\n",
       "      <td>4</td>\n",
       "      <td>.</td>\n",
       "      <td>BELMONT</td>\n",
       "      <td>GLORIA</td>\n",
       "      <td>PEDREGAL DE SANTO DOMINGO</td>\n",
       "      <td>COYOACAN</td>\n",
       "      <td>FEMENINO</td>\n",
       "      <td>66</td>\n",
       "    </tr>\n",
       "    <tr>\n",
       "      <th>4</th>\n",
       "      <td>5</td>\n",
       "      <td>.</td>\n",
       "      <td>BELMONT</td>\n",
       "      <td>HERLINDA</td>\n",
       "      <td>EJ VJO STA URSULA COAPA</td>\n",
       "      <td>COYOACAN</td>\n",
       "      <td>FEMENINO</td>\n",
       "      <td>49</td>\n",
       "    </tr>\n",
       "  </tbody>\n",
       "</table>\n",
       "</div>"
      ],
      "text/plain": [
       "   CONSECUTIVO PATERNO    MATERNO             NOMBRE  \\\n",
       "0            1       .  ALQUICIRA               IRMA   \n",
       "1            2       .   ALVARADO  YOLANDA FRANCISCA   \n",
       "2            3       .      BAÑOS       MARIA DE LOS   \n",
       "3            4       .    BELMONT             GLORIA   \n",
       "4            5       .    BELMONT           HERLINDA   \n",
       "\n",
       "          UNIDAD TERRITORIAL DELEGACION      SEXO  EDAD  \n",
       "0   PEDREGAL DE SANTA URSULA   COYOACAN  FEMENINO    66  \n",
       "1                     AJUSCO   COYOACAN  FEMENINO    56  \n",
       "2  CULHUACAN CTM SECCION X-A   COYOACAN  FEMENINO    66  \n",
       "3  PEDREGAL DE SANTO DOMINGO   COYOACAN  FEMENINO    66  \n",
       "4    EJ VJO STA URSULA COAPA   COYOACAN  FEMENINO    49  "
      ]
     },
     "execution_count": 60,
     "metadata": {},
     "output_type": "execute_result"
    }
   ],
   "source": [
    "new_data.head()"
   ]
  },
  {
   "cell_type": "code",
   "execution_count": 61,
   "metadata": {},
   "outputs": [],
   "source": [
    "provi=list(new_data[\"UNIDAD TERRITORIAL\"])"
   ]
  },
  {
   "cell_type": "code",
   "execution_count": 62,
   "metadata": {},
   "outputs": [
    {
     "name": "stdout",
     "output_type": "stream",
     "text": [
      "CULHUACAN CTM\n",
      "CULHUACAN CTM\n",
      "PRESIDENTES EJIDALES 2A SECCION\n",
      "CULHUACAN CTM SECCION IX \n",
      "4\n"
     ]
    }
   ],
   "source": [
    "n=0\n",
    "for i in provi:\n",
    "    if i not in lista_final:\n",
    "        n+=1\n",
    "        print(i)\n",
    "print(n)        "
   ]
  },
  {
   "cell_type": "code",
   "execution_count": 63,
   "metadata": {},
   "outputs": [],
   "source": [
    "lista_final.append(\"PRESIDENTES EJIDALES 2A SECCION\")"
   ]
  },
  {
   "cell_type": "code",
   "execution_count": 64,
   "metadata": {},
   "outputs": [],
   "source": [
    "lista_final=sorted(lista_final)\n",
    "lista_final=pd.DataFrame(lista_final)"
   ]
  },
  {
   "cell_type": "code",
   "execution_count": 65,
   "metadata": {},
   "outputs": [],
   "source": [
    "writer = ExcelWriter('/home/diego/Escritorio/Thesis/data/Datos BCCCI/Coyoacán data/colonias.xlsx')\n",
    "lista_final.to_excel(writer, 'hoja de calculo', index=False)\n",
    "writer.save()"
   ]
  },
  {
   "cell_type": "code",
   "execution_count": null,
   "metadata": {},
   "outputs": [],
   "source": []
  }
 ],
 "metadata": {
  "kernelspec": {
   "display_name": "Python 3",
   "language": "python",
   "name": "python3"
  },
  "language_info": {
   "codemirror_mode": {
    "name": "ipython",
    "version": 3
   },
   "file_extension": ".py",
   "mimetype": "text/x-python",
   "name": "python",
   "nbconvert_exporter": "python",
   "pygments_lexer": "ipython3",
   "version": "3.7.3"
  }
 },
 "nbformat": 4,
 "nbformat_minor": 2
}
